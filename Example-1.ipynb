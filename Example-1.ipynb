{
 "cells": [
  {
   "cell_type": "code",
   "execution_count": 1,
   "metadata": {},
   "outputs": [],
   "source": [
    "import numpy as np\n",
    "from scipy import stats\n",
    "import pandas as pd\n",
    "\n",
    "from tessa.data import DataFields3D, Dataset"
   ]
  },
  {
   "cell_type": "code",
   "execution_count": 2,
   "metadata": {},
   "outputs": [],
   "source": [
    "# data from http://kdd.ics.uci.edu/databases/el_nino/el_nino.html\n",
    "\n",
    "data_link = 'http://kdd.ics.uci.edu/databases/el_nino/elnino.gz'\n",
    "data_desc = 'http://kdd.ics.uci.edu/databases/el_nino/elnino.col'"
   ]
  },
  {
   "cell_type": "markdown",
   "metadata": {},
   "source": [
    "# Preparing dataset"
   ]
  },
  {
   "cell_type": "code",
   "execution_count": 3,
   "metadata": {},
   "outputs": [
    {
     "data": {
      "text/html": [
       "<div>\n",
       "<style scoped>\n",
       "    .dataframe tbody tr th:only-of-type {\n",
       "        vertical-align: middle;\n",
       "    }\n",
       "\n",
       "    .dataframe tbody tr th {\n",
       "        vertical-align: top;\n",
       "    }\n",
       "\n",
       "    .dataframe thead th {\n",
       "        text-align: right;\n",
       "    }\n",
       "</style>\n",
       "<table border=\"1\" class=\"dataframe\">\n",
       "  <thead>\n",
       "    <tr style=\"text-align: right;\">\n",
       "      <th></th>\n",
       "      <th>buoy</th>\n",
       "      <th>day</th>\n",
       "      <th>latitude</th>\n",
       "      <th>longitude</th>\n",
       "      <th>zon.winds</th>\n",
       "      <th>mer.winds</th>\n",
       "      <th>humidity</th>\n",
       "      <th>air temp.</th>\n",
       "      <th>s.s.temp.</th>\n",
       "      <th>z_himidity</th>\n",
       "    </tr>\n",
       "  </thead>\n",
       "  <tbody>\n",
       "    <tr>\n",
       "      <th>0</th>\n",
       "      <td>1</td>\n",
       "      <td>1</td>\n",
       "      <td>8.96</td>\n",
       "      <td>-140.32</td>\n",
       "      <td>-6.3</td>\n",
       "      <td>-6.4</td>\n",
       "      <td>83.5</td>\n",
       "      <td>27.32</td>\n",
       "      <td>27.57</td>\n",
       "      <td>-0.187797</td>\n",
       "    </tr>\n",
       "    <tr>\n",
       "      <th>1</th>\n",
       "      <td>1</td>\n",
       "      <td>2</td>\n",
       "      <td>8.95</td>\n",
       "      <td>-140.32</td>\n",
       "      <td>-5.7</td>\n",
       "      <td>-3.6</td>\n",
       "      <td>86.4</td>\n",
       "      <td>26.70</td>\n",
       "      <td>27.62</td>\n",
       "      <td>0.380607</td>\n",
       "    </tr>\n",
       "    <tr>\n",
       "      <th>2</th>\n",
       "      <td>1</td>\n",
       "      <td>3</td>\n",
       "      <td>8.96</td>\n",
       "      <td>-140.32</td>\n",
       "      <td>-6.2</td>\n",
       "      <td>-5.8</td>\n",
       "      <td>83.0</td>\n",
       "      <td>27.36</td>\n",
       "      <td>27.68</td>\n",
       "      <td>-0.285797</td>\n",
       "    </tr>\n",
       "    <tr>\n",
       "      <th>3</th>\n",
       "      <td>1</td>\n",
       "      <td>4</td>\n",
       "      <td>8.96</td>\n",
       "      <td>-140.34</td>\n",
       "      <td>-6.4</td>\n",
       "      <td>-5.3</td>\n",
       "      <td>82.2</td>\n",
       "      <td>27.32</td>\n",
       "      <td>27.70</td>\n",
       "      <td>-0.442598</td>\n",
       "    </tr>\n",
       "    <tr>\n",
       "      <th>4</th>\n",
       "      <td>1</td>\n",
       "      <td>5</td>\n",
       "      <td>8.96</td>\n",
       "      <td>-140.33</td>\n",
       "      <td>-4.9</td>\n",
       "      <td>-6.2</td>\n",
       "      <td>87.3</td>\n",
       "      <td>27.09</td>\n",
       "      <td>27.85</td>\n",
       "      <td>0.557008</td>\n",
       "    </tr>\n",
       "  </tbody>\n",
       "</table>\n",
       "</div>"
      ],
      "text/plain": [
       "   buoy  day  latitude  longitude zon.winds mer.winds  humidity air temp.  \\\n",
       "0     1    1      8.96    -140.32      -6.3      -6.4      83.5     27.32   \n",
       "1     1    2      8.95    -140.32      -5.7      -3.6      86.4     26.70   \n",
       "2     1    3      8.96    -140.32      -6.2      -5.8      83.0     27.36   \n",
       "3     1    4      8.96    -140.34      -6.4      -5.3      82.2     27.32   \n",
       "4     1    5      8.96    -140.33      -4.9      -6.2      87.3     27.09   \n",
       "\n",
       "  s.s.temp.  z_himidity  \n",
       "0     27.57   -0.187797  \n",
       "1     27.62    0.380607  \n",
       "2     27.68   -0.285797  \n",
       "3     27.70   -0.442598  \n",
       "4     27.85    0.557008  "
      ]
     },
     "execution_count": 3,
     "metadata": {},
     "output_type": "execute_result"
    }
   ],
   "source": [
    "cols = pd.read_csv(data_desc, header=None, squeeze=True).to_list()\n",
    "data = (\n",
    "    pd.read_csv(data_link, header=None, delim_whitespace=True, names=cols)\n",
    "    .drop_duplicates(keep='last', subset=['buoy', 'day'])\n",
    "    .query('humidity != \".\"')\n",
    "    .astype({'humidity': float})\n",
    "    .assign(z_humidity = lambda x: stats.zscore(x['humidity'].values))\n",
    ")\n",
    "data.head()"
   ]
  },
  {
   "cell_type": "code",
   "execution_count": 4,
   "metadata": {},
   "outputs": [
    {
     "data": {
      "text/plain": [
       "DataFields3D(x='latitude', y='longitude', z='day', weights='z_himidity')"
      ]
     },
     "execution_count": 4,
     "metadata": {},
     "output_type": "execute_result"
    }
   ],
   "source": [
    "data_fields = DataFields3D(\"latitude\", \"longitude\", \"day\", weights='z_humidity')\n",
    "data_fields"
   ]
  },
  {
   "cell_type": "code",
   "execution_count": 5,
   "metadata": {},
   "outputs": [],
   "source": [
    "dataset = Dataset(data, data_fields, name='El Nino')"
   ]
  },
  {
   "cell_type": "code",
   "execution_count": 6,
   "metadata": {},
   "outputs": [],
   "source": [
    "with dataset.format('spatio_temporal_tensor'):\n",
    "    *tensor_data, data_index = dataset.data"
   ]
  },
  {
   "cell_type": "code",
   "execution_count": 7,
   "metadata": {},
   "outputs": [
    {
     "name": "stdout",
     "output_type": "stream",
     "text": [
      "Tensor with shape (84, 104, 14) density: 0.5%\n"
     ]
    }
   ],
   "source": [
    "idx, vals, shape = tensor_data\n",
    "print(f'Tensor with shape {shape} density: {idx.shape[0] / np.prod(shape):.1%}')"
   ]
  },
  {
   "cell_type": "markdown",
   "metadata": {},
   "source": [
    "# Standard TF"
   ]
  },
  {
   "cell_type": "code",
   "execution_count": 8,
   "metadata": {},
   "outputs": [],
   "source": [
    "from tessa.tensor import sa_hooi"
   ]
  },
  {
   "cell_type": "code",
   "execution_count": 9,
   "metadata": {},
   "outputs": [
    {
     "name": "stdout",
     "output_type": "stream",
     "text": [
      "growth of the core: 1.0\n",
      "growth of the core: 0.13644255235912423\n",
      "growth of the core: 0.00992252683820765\n",
      "growth of the core: 0.0018855732624303285\n",
      "growth of the core: 0.006855716042608132\n",
      "growth of the core: 0.015220333607973171\n",
      "growth of the core: 0.004625363430119546\n",
      "growth of the core: 0.00034016064863996113\n",
      "Core is no longer growing. Norm of the core: 15.925474510603975.\n"
     ]
    }
   ],
   "source": [
    "factors = sa_hooi(idx, vals, shape, (10, 12, 3), seed=123)"
   ]
  },
  {
   "cell_type": "markdown",
   "metadata": {},
   "source": [
    "# TESSA"
   ]
  },
  {
   "cell_type": "code",
   "execution_count": 10,
   "metadata": {},
   "outputs": [],
   "source": [
    "from tessa.tensor_ssa import hankel_hooi"
   ]
  },
  {
   "cell_type": "code",
   "execution_count": 12,
   "metadata": {},
   "outputs": [
    {
     "name": "stdout",
     "output_type": "stream",
     "text": [
      "growth of the core: 1.0\n",
      "growth of the core: 0.23636808370427304\n",
      "growth of the core: 0.0574351923053036\n",
      "growth of the core: 0.011564970294758435\n",
      "growth of the core: 0.003975690794733302\n",
      "growth of the core: 0.006555721655183811\n",
      "growth of the core: 0.16197488296520626\n",
      "growth of the core: 0.28832039616614186\n",
      "growth of the core: 0.07912938936363921\n",
      "growth of the core: 0.029478611531998808\n",
      "growth of the core: 0.02618140560434757\n",
      "growth of the core: 0.01221688250381175\n",
      "growth of the core: 0.006359553902480272\n",
      "growth of the core: 0.00483107975209087\n",
      "growth of the core: 0.004608047802471062\n",
      "growth of the core: 0.004167084210266833\n",
      "growth of the core: 0.003034234844602325\n",
      "growth of the core: 0.0018003906504887382\n",
      "growth of the core: 0.0009939331335558658\n",
      "Core is no longer growing. Norm of the core: 20.36608587601201.\n"
     ]
    }
   ],
   "source": [
    "factors = hankel_hooi(idx, shape, (10, 12, 2, 3), attention_span=5, seed=123)"
   ]
  },
  {
   "cell_type": "code",
   "execution_count": null,
   "metadata": {},
   "outputs": [],
   "source": []
  }
 ],
 "metadata": {
  "kernelspec": {
   "display_name": "polara_dev",
   "language": "python",
   "name": "python3"
  },
  "language_info": {
   "codemirror_mode": {
    "name": "ipython",
    "version": 3
   },
   "file_extension": ".py",
   "mimetype": "text/x-python",
   "name": "python",
   "nbconvert_exporter": "python",
   "pygments_lexer": "ipython3",
   "version": "3.9.7"
  },
  "orig_nbformat": 4
 },
 "nbformat": 4,
 "nbformat_minor": 2
}
