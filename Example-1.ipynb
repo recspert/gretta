{
 "cells": [
  {
   "cell_type": "code",
   "execution_count": 1,
   "metadata": {},
   "outputs": [],
   "source": [
    "import numpy as np\n",
    "from scipy import stats\n",
    "import pandas as pd"
   ]
  },
  {
   "cell_type": "code",
   "execution_count": 2,
   "metadata": {},
   "outputs": [],
   "source": [
    "# data from http://kdd.ics.uci.edu/databases/el_nino/el_nino.html\n",
    "\n",
    "data_link = 'http://kdd.ics.uci.edu/databases/el_nino/elnino.gz'\n",
    "data_desc = 'http://kdd.ics.uci.edu/databases/el_nino/elnino.col'"
   ]
  },
  {
   "cell_type": "markdown",
   "metadata": {},
   "source": [
    "# Preparing dataset"
   ]
  },
  {
   "cell_type": "code",
   "execution_count": 3,
   "metadata": {},
   "outputs": [],
   "source": [
    "from tessa import DataFields3D, Dataset"
   ]
  },
  {
   "cell_type": "code",
   "execution_count": 4,
   "metadata": {},
   "outputs": [
    {
     "data": {
      "text/html": [
       "<div>\n",
       "<style scoped>\n",
       "    .dataframe tbody tr th:only-of-type {\n",
       "        vertical-align: middle;\n",
       "    }\n",
       "\n",
       "    .dataframe tbody tr th {\n",
       "        vertical-align: top;\n",
       "    }\n",
       "\n",
       "    .dataframe thead th {\n",
       "        text-align: right;\n",
       "    }\n",
       "</style>\n",
       "<table border=\"1\" class=\"dataframe\">\n",
       "  <thead>\n",
       "    <tr style=\"text-align: right;\">\n",
       "      <th></th>\n",
       "      <th>buoy</th>\n",
       "      <th>day</th>\n",
       "      <th>latitude</th>\n",
       "      <th>longitude</th>\n",
       "      <th>zon.winds</th>\n",
       "      <th>mer.winds</th>\n",
       "      <th>humidity</th>\n",
       "      <th>air temp.</th>\n",
       "      <th>s.s.temp.</th>\n",
       "      <th>z_humidity</th>\n",
       "    </tr>\n",
       "  </thead>\n",
       "  <tbody>\n",
       "    <tr>\n",
       "      <th>0</th>\n",
       "      <td>1</td>\n",
       "      <td>1</td>\n",
       "      <td>8.96</td>\n",
       "      <td>-140.32</td>\n",
       "      <td>-6.3</td>\n",
       "      <td>-6.4</td>\n",
       "      <td>83.5</td>\n",
       "      <td>27.32</td>\n",
       "      <td>27.57</td>\n",
       "      <td>-0.187797</td>\n",
       "    </tr>\n",
       "    <tr>\n",
       "      <th>1</th>\n",
       "      <td>1</td>\n",
       "      <td>2</td>\n",
       "      <td>8.95</td>\n",
       "      <td>-140.32</td>\n",
       "      <td>-5.7</td>\n",
       "      <td>-3.6</td>\n",
       "      <td>86.4</td>\n",
       "      <td>26.70</td>\n",
       "      <td>27.62</td>\n",
       "      <td>0.380607</td>\n",
       "    </tr>\n",
       "    <tr>\n",
       "      <th>2</th>\n",
       "      <td>1</td>\n",
       "      <td>3</td>\n",
       "      <td>8.96</td>\n",
       "      <td>-140.32</td>\n",
       "      <td>-6.2</td>\n",
       "      <td>-5.8</td>\n",
       "      <td>83.0</td>\n",
       "      <td>27.36</td>\n",
       "      <td>27.68</td>\n",
       "      <td>-0.285797</td>\n",
       "    </tr>\n",
       "    <tr>\n",
       "      <th>3</th>\n",
       "      <td>1</td>\n",
       "      <td>4</td>\n",
       "      <td>8.96</td>\n",
       "      <td>-140.34</td>\n",
       "      <td>-6.4</td>\n",
       "      <td>-5.3</td>\n",
       "      <td>82.2</td>\n",
       "      <td>27.32</td>\n",
       "      <td>27.70</td>\n",
       "      <td>-0.442598</td>\n",
       "    </tr>\n",
       "    <tr>\n",
       "      <th>4</th>\n",
       "      <td>1</td>\n",
       "      <td>5</td>\n",
       "      <td>8.96</td>\n",
       "      <td>-140.33</td>\n",
       "      <td>-4.9</td>\n",
       "      <td>-6.2</td>\n",
       "      <td>87.3</td>\n",
       "      <td>27.09</td>\n",
       "      <td>27.85</td>\n",
       "      <td>0.557008</td>\n",
       "    </tr>\n",
       "  </tbody>\n",
       "</table>\n",
       "</div>"
      ],
      "text/plain": [
       "   buoy  day  latitude  longitude zon.winds mer.winds  humidity air temp.  \\\n",
       "0     1    1      8.96    -140.32      -6.3      -6.4      83.5     27.32   \n",
       "1     1    2      8.95    -140.32      -5.7      -3.6      86.4     26.70   \n",
       "2     1    3      8.96    -140.32      -6.2      -5.8      83.0     27.36   \n",
       "3     1    4      8.96    -140.34      -6.4      -5.3      82.2     27.32   \n",
       "4     1    5      8.96    -140.33      -4.9      -6.2      87.3     27.09   \n",
       "\n",
       "  s.s.temp.  z_humidity  \n",
       "0     27.57   -0.187797  \n",
       "1     27.62    0.380607  \n",
       "2     27.68   -0.285797  \n",
       "3     27.70   -0.442598  \n",
       "4     27.85    0.557008  "
      ]
     },
     "execution_count": 4,
     "metadata": {},
     "output_type": "execute_result"
    }
   ],
   "source": [
    "cols = pd.read_csv(data_desc, header=None).squeeze().to_list()\n",
    "data = (\n",
    "    pd.read_csv(data_link, header=None, delim_whitespace=True, names=cols)\n",
    "    .drop_duplicates(keep='last', subset=['buoy', 'day'])\n",
    "    .query('humidity != \".\"')\n",
    "    .astype({'humidity': float})\n",
    "    .assign(z_humidity = lambda x: stats.zscore(x['humidity'].values))\n",
    ")\n",
    "data.head()"
   ]
  },
  {
   "cell_type": "code",
   "execution_count": 5,
   "metadata": {},
   "outputs": [
    {
     "data": {
      "text/plain": [
       "DataFields3D(x='latitude', y='longitude', z='day', weights='z_humidity')"
      ]
     },
     "execution_count": 5,
     "metadata": {},
     "output_type": "execute_result"
    }
   ],
   "source": [
    "data_fields = DataFields3D(\"latitude\", \"longitude\", \"day\", weights='z_humidity')\n",
    "data_fields"
   ]
  },
  {
   "cell_type": "code",
   "execution_count": 6,
   "metadata": {},
   "outputs": [],
   "source": [
    "dataset = Dataset(data, data_fields, name='El Nino')"
   ]
  },
  {
   "cell_type": "code",
   "execution_count": 7,
   "metadata": {},
   "outputs": [],
   "source": [
    "with dataset.format('spatio_temporal_tensor'):\n",
    "    # converts the data into the proper format for analysis\n",
    "    *tensor_data, data_index = dataset.data"
   ]
  },
  {
   "cell_type": "code",
   "execution_count": 8,
   "metadata": {},
   "outputs": [
    {
     "name": "stdout",
     "output_type": "stream",
     "text": [
      "Tensor with shape=(84, 104, 14) and density=0.5%\n"
     ]
    }
   ],
   "source": [
    "idx, vals, shape = tensor_data\n",
    "print(f'Tensor with {shape=} and density={idx.shape[0] / np.prod(shape):.1%}')"
   ]
  },
  {
   "cell_type": "markdown",
   "metadata": {},
   "source": [
    "# Standard Tensor Factorization"
   ]
  },
  {
   "cell_type": "code",
   "execution_count": 9,
   "metadata": {},
   "outputs": [],
   "source": [
    "from tessa import tensor_factors"
   ]
  },
  {
   "cell_type": "code",
   "execution_count": 10,
   "metadata": {},
   "outputs": [
    {
     "name": "stdout",
     "output_type": "stream",
     "text": [
      "growth of the core: 1.0\n",
      "growth of the core: 0.1364425523591237\n",
      "growth of the core: 0.009922526838207426\n",
      "growth of the core: 0.001885573262431016\n",
      "growth of the core: 0.006855716042607339\n",
      "growth of the core: 0.015220333607973842\n",
      "growth of the core: 0.004625363430118546\n",
      "growth of the core: 0.00034016064864029593\n",
      "Core is no longer growing. Norm of the core: 15.925474510603966.\n"
     ]
    }
   ],
   "source": [
    "factors = tensor_factors(idx, vals, shape, (10, 12, 3), seed=123)"
   ]
  },
  {
   "cell_type": "code",
   "execution_count": 11,
   "metadata": {},
   "outputs": [
    {
     "name": "stdout",
     "output_type": "stream",
     "text": [
      "1 factor.shape=(84, 10)\n",
      "2 factor.shape=(104, 12)\n",
      "3 factor.shape=(14, 3)\n"
     ]
    }
   ],
   "source": [
    "for i, factor in enumerate(factors):\n",
    "    print(f'{i+1} {factor.shape=}')"
   ]
  },
  {
   "cell_type": "markdown",
   "metadata": {},
   "source": [
    "# TESSA"
   ]
  },
  {
   "cell_type": "code",
   "execution_count": 12,
   "metadata": {},
   "outputs": [],
   "source": [
    "from tessa import tessa_factors"
   ]
  },
  {
   "cell_type": "code",
   "execution_count": 13,
   "metadata": {},
   "outputs": [
    {
     "name": "stdout",
     "output_type": "stream",
     "text": [
      "growth of the core: 1.0\n",
      "growth of the core: 0.45950796251590037\n",
      "growth of the core: 0.0521364844288116\n",
      "growth of the core: 0.02255310516181182\n",
      "growth of the core: 0.03260984296632649\n",
      "growth of the core: 0.015769502659024565\n",
      "growth of the core: 0.00965233700905079\n",
      "growth of the core: 0.008587852215974466\n",
      "growth of the core: 0.006875455003141976\n",
      "growth of the core: 0.005310163782685596\n",
      "growth of the core: 0.003760457829912918\n",
      "growth of the core: 0.002323053030615243\n",
      "growth of the core: 0.0013311981354696514\n",
      "growth of the core: 0.0007740643522595958\n",
      "Core is no longer growing. Norm of the core: 20.04194540027395.\n"
     ]
    }
   ],
   "source": [
    "factors = tessa_factors(idx, shape, (10, 12, 2, 3), attention_span=4, seed=123)"
   ]
  },
  {
   "cell_type": "code",
   "execution_count": 14,
   "metadata": {},
   "outputs": [
    {
     "name": "stdout",
     "output_type": "stream",
     "text": [
      "1 factor.shape=(84, 10)\n",
      "2 factor.shape=(104, 12)\n",
      "3 factor.shape=(4, 2)\n",
      "4 factor.shape=(11, 3)\n"
     ]
    }
   ],
   "source": [
    "for i, factor in enumerate(factors):\n",
    "    print(f'{i+1} {factor.shape=}')"
   ]
  },
  {
   "cell_type": "code",
   "execution_count": null,
   "metadata": {},
   "outputs": [],
   "source": []
  }
 ],
 "metadata": {
  "kernelspec": {
   "display_name": "polara_dev",
   "language": "python",
   "name": "python3"
  },
  "language_info": {
   "codemirror_mode": {
    "name": "ipython",
    "version": 3
   },
   "file_extension": ".py",
   "mimetype": "text/x-python",
   "name": "python",
   "nbconvert_exporter": "python",
   "pygments_lexer": "ipython3",
   "version": "3.9.18"
  },
  "orig_nbformat": 4
 },
 "nbformat": 4,
 "nbformat_minor": 2
}
